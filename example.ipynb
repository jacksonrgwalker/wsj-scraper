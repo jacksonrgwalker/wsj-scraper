{
 "cells": [
  {
   "cell_type": "code",
   "execution_count": null,
   "metadata": {},
   "outputs": [],
   "source": [
    "from scripts.wsj import WsjScraper\n",
    "from scripts.utils import set_up_logger"
   ]
  },
  {
   "cell_type": "code",
   "execution_count": null,
   "metadata": {},
   "outputs": [],
   "source": [
    "logger = set_up_logger()\n",
    "scraper = WsjScraper(logger=logger)\n",
    "scraper.load_shallow_article_data()\n",
    "scraper.load_full_article_data()\n",
    "scraper.pull_all_shallow_article_data(start_date=\"2023-10-15\")\n",
    "scraper.pull_all_full_article_data()"
   ]
  }
 ],
 "metadata": {
  "kernelspec": {
   "display_name": "wsj-scraper-env",
   "language": "python",
   "name": "python3"
  },
  "language_info": {
   "codemirror_mode": {
    "name": "ipython",
    "version": 3
   },
   "file_extension": ".py",
   "mimetype": "text/x-python",
   "name": "python",
   "nbconvert_exporter": "python",
   "pygments_lexer": "ipython3",
   "version": "3.12.0"
  }
 },
 "nbformat": 4,
 "nbformat_minor": 2
}
